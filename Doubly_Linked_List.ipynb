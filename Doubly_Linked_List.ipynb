{
 "cells": [
  {
   "cell_type": "markdown",
   "id": "862224e7",
   "metadata": {},
   "source": [
    "Step 1: Create a node structure:"
   ]
  },
  {
   "cell_type": "code",
   "execution_count": 53,
   "id": "6bad5625",
   "metadata": {},
   "outputs": [],
   "source": [
    "class Node:\n",
    "    def __init__(self, value = 0):\n",
    "        self.value = value\n",
    "        self.next_node = None\n",
    "        self.prev_node = None"
   ]
  },
  {
   "cell_type": "markdown",
   "id": "2a918cc4",
   "metadata": {},
   "source": [
    "Step 2: Create an empty node which will be the head:"
   ]
  },
  {
   "cell_type": "code",
   "execution_count": null,
   "id": "40d6f8dc",
   "metadata": {},
   "outputs": [],
   "source": [
    "class LinkedList:\n",
    "    def __init__(self):\n",
    "        self.head = Node()\n",
    "        self.tail = Node()\n",
    "    def addNode(self,value):\n",
    "        new_node = Node(value)\n",
    "        cur = self.head\n",
    "        while cur.next_node != None:\n",
    "            cur = cur.next_node\n",
    "        cur.next_node = new_node\n",
    "        new_node.prev_node = cur\n",
    "        self.tail = new_node\n",
    "        print(f\"Head = [{self.head.prev_node} <- {self.head.value} -> {self.head.next_node}] and Tail = [{self.tail.prev_node} <- {self.tail.value} -> {self.tail.next_node}]\")\n",
    "    def LRdisplay(self):\n",
    "        res = []\n",
    "        cur = self.head\n",
    "        while cur:\n",
    "            res.append(str(cur.value))\n",
    "            cur = cur.next_node\n",
    "        print(\" -> \".join(res))\n",
    "    def RLdisplay(self):\n",
    "        res = []\n",
    "        cur = self.tail\n",
    "        while cur:\n",
    "            res.append(str(cur.value))\n",
    "            cur = cur.prev_node\n",
    "        print(\" <- \".join(res)) "
   ]
  },
  {
   "cell_type": "code",
   "execution_count": null,
   "id": "d656c54b",
   "metadata": {},
   "outputs": [
    {
     "name": "stdout",
     "output_type": "stream",
     "text": [
      "Head = [None <- 0 -> <__main__.Node object at 0x000001357C0A3890>] and Tail = [<__main__.Node object at 0x000001357C0B87C0> <- Test -> None]\n",
      "Head = [None <- 0 -> <__main__.Node object at 0x000001357C0A3890>] and Tail = [<__main__.Node object at 0x000001357C0A3890> <- 34 -> None]\n",
      "Head = [None <- 0 -> <__main__.Node object at 0x000001357C0A3890>] and Tail = [<__main__.Node object at 0x000001357C0A3590> <- True -> None]\n",
      "0 -> Test -> 34 -> True\n",
      "True <- 34 <- Test <- 0\n"
     ]
    }
   ],
   "source": [
    "my_list = LinkedList()\n",
    "my_list.addNode(\"Test\")\n",
    "my_list.addNode(34)\n",
    "my_list.addNode(True)\n",
    "my_list.LRdisplay()\n",
    "my_list.RLdisplay()"
   ]
  }
 ],
 "metadata": {
  "kernelspec": {
   "display_name": "venv",
   "language": "python",
   "name": "python3"
  },
  "language_info": {
   "codemirror_mode": {
    "name": "ipython",
    "version": 3
   },
   "file_extension": ".py",
   "mimetype": "text/x-python",
   "name": "python",
   "nbconvert_exporter": "python",
   "pygments_lexer": "ipython3",
   "version": "3.13.2"
  }
 },
 "nbformat": 4,
 "nbformat_minor": 5
}
