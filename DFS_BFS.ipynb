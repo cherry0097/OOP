{
 "cells": [
  {
   "cell_type": "markdown",
   "id": "6bf386ed",
   "metadata": {},
   "source": [
    "### Graph Traversal using DFS and BFS\n",
    "\n",
    "Let's create an array of edges:  \n",
    "`n = 8`  \n",
    "`arr = [[0,1],[1,2],[0,3],[3,4],[3,6],[3,7],[4,2],[4,5],[5,2]]`  \n",
    "\n",
    "This represents a network:"
   ]
  },
  {
   "cell_type": "markdown",
   "id": "47659b69",
   "metadata": {},
   "source": [
    "```\n",
    "      0\n",
    "    /   \\\n",
    "   1     3\n",
    "    \\   /|\\\n",
    "     2-4 6 7\n",
    "      \\|\n",
    "       5\n",
    "```\n"
   ]
  },
  {
   "cell_type": "markdown",
   "id": "62946988",
   "metadata": {},
   "source": [
    "\n",
    "Let's apply **DFS** and **BFS** on this.\n"
   ]
  },
  {
   "cell_type": "code",
   "execution_count": null,
   "id": "2c5b52f0",
   "metadata": {},
   "outputs": [
    {
     "name": "stdout",
     "output_type": "stream",
     "text": [
      "defaultdict(<class 'list'>, {0: [1, 3], 1: [2], 3: [4, 6, 7], 4: [2, 5], 5: [2]})\n"
     ]
    }
   ],
   "source": [
    "arr = [[0,1],[1,2],[0,3],[3,4],[3,6],[3,7],[4,2],[4,5],[5,2]]\n",
    "\n",
    "#Lets create a dictionary from it\n",
    "\n",
    "from collections import defaultdict\n",
    "\n",
    "D = defaultdict(list)\n",
    "\n",
    "for u,v in arr:\n",
    "    D[u].append(v)"
   ]
  },
  {
   "cell_type": "code",
   "execution_count": 5,
   "id": "86a3eb87",
   "metadata": {},
   "outputs": [
    {
     "name": "stdout",
     "output_type": "stream",
     "text": [
      "0\n",
      "1\n",
      "2\n",
      "3\n",
      "4\n",
      "5\n",
      "6\n",
      "7\n"
     ]
    }
   ],
   "source": [
    "#DFS using recursion\n",
    "source = 0\n",
    "seen = set()\n",
    "seen.add(source)\n",
    "def dfsRecursive(node):\n",
    "    print(node) # Processing\n",
    "    for nei_node in D[node]:\n",
    "        if nei_node not in seen:\n",
    "            seen.add(nei_node)\n",
    "            dfsRecursive(nei_node)\n",
    "\n",
    "dfsRecursive(source)\n"
   ]
  },
  {
   "cell_type": "code",
   "execution_count": 6,
   "id": "afabe2fa",
   "metadata": {},
   "outputs": [
    {
     "name": "stdout",
     "output_type": "stream",
     "text": [
      "0\n",
      "3\n",
      "7\n",
      "6\n",
      "4\n",
      "5\n",
      "2\n",
      "1\n"
     ]
    }
   ],
   "source": [
    "#DFS using Iteration:\n",
    "source = 0\n",
    "seen = set()\n",
    "stack = [source]\n",
    "while stack:\n",
    "    node = stack.pop() # Processing\n",
    "    print(node)\n",
    "    for nei_node in D[node]:\n",
    "        if nei_node not in seen:\n",
    "            seen.add(nei_node)\n",
    "            stack.append(nei_node)"
   ]
  },
  {
   "cell_type": "code",
   "execution_count": 8,
   "id": "2eee59ca",
   "metadata": {},
   "outputs": [
    {
     "name": "stdout",
     "output_type": "stream",
     "text": [
      "0\n",
      "1\n",
      "3\n",
      "2\n",
      "4\n",
      "6\n",
      "7\n",
      "5\n"
     ]
    }
   ],
   "source": [
    "# BFS:\n",
    "from collections import deque\n",
    "\n",
    "source = 0\n",
    "seen = set()\n",
    "seen.add(source)\n",
    "q = deque()\n",
    "q.append(source)\n",
    "while q:\n",
    "    node = q.popleft() # Processing\n",
    "    print(node)\n",
    "    for nei_node in D[node]:\n",
    "        if nei_node not in seen:\n",
    "            seen.add(nei_node)\n",
    "            q.append(nei_node)"
   ]
  }
 ],
 "metadata": {
  "kernelspec": {
   "display_name": "Python 3",
   "language": "python",
   "name": "python3"
  },
  "language_info": {
   "codemirror_mode": {
    "name": "ipython",
    "version": 3
   },
   "file_extension": ".py",
   "mimetype": "text/x-python",
   "name": "python",
   "nbconvert_exporter": "python",
   "pygments_lexer": "ipython3",
   "version": "3.13.2"
  }
 },
 "nbformat": 4,
 "nbformat_minor": 5
}
