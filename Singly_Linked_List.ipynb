{
 "cells": [
  {
   "cell_type": "markdown",
   "id": "b7eaff0c",
   "metadata": {},
   "source": [
    "# Creating a Node:"
   ]
  },
  {
   "cell_type": "code",
   "execution_count": 31,
   "id": "36a6dbc4",
   "metadata": {},
   "outputs": [],
   "source": [
    "class Node:\n",
    "    def __init__(self,value = None):\n",
    "        self.value = value\n",
    "        self.next_node = None"
   ]
  },
  {
   "cell_type": "markdown",
   "id": "ba7e2a8a",
   "metadata": {},
   "source": [
    "# Creating the linked list:"
   ]
  },
  {
   "cell_type": "code",
   "execution_count": 32,
   "id": "02a5ac33",
   "metadata": {},
   "outputs": [],
   "source": [
    "class LinkedList:\n",
    "    def __init__(self):\n",
    "        self.head = Node()\n",
    "    def addNode(self,value):\n",
    "        new_node = Node(value)\n",
    "        cur = self.head\n",
    "        while cur.next_node != None:\n",
    "            cur = cur.next_node\n",
    "        cur.next_node = new_node\n",
    "    def display(self):\n",
    "        res = []\n",
    "        cur = self.head\n",
    "        while cur:\n",
    "            res.append(str(cur.value))\n",
    "            cur = cur.next_node\n",
    "        print(\" -> \".join(res))"
   ]
  },
  {
   "cell_type": "markdown",
   "id": "5ef44ea5",
   "metadata": {},
   "source": [
    "Adding values"
   ]
  },
  {
   "cell_type": "code",
   "execution_count": 33,
   "id": "78f23b58",
   "metadata": {},
   "outputs": [],
   "source": [
    "my_list = LinkedList()\n",
    "my_list.addNode(34)\n",
    "my_list.addNode(45)"
   ]
  },
  {
   "cell_type": "markdown",
   "id": "d9269588",
   "metadata": {},
   "source": [
    "Display"
   ]
  },
  {
   "cell_type": "code",
   "execution_count": 34,
   "id": "cafc8c1b",
   "metadata": {},
   "outputs": [
    {
     "name": "stdout",
     "output_type": "stream",
     "text": [
      "None -> 34 -> 45\n"
     ]
    }
   ],
   "source": [
    "my_list.display()"
   ]
  },
  {
   "cell_type": "markdown",
   "id": "9c0c18a9",
   "metadata": {},
   "source": []
  }
 ],
 "metadata": {
  "kernelspec": {
   "display_name": "venv",
   "language": "python",
   "name": "python3"
  },
  "language_info": {
   "codemirror_mode": {
    "name": "ipython",
    "version": 3
   },
   "file_extension": ".py",
   "mimetype": "text/x-python",
   "name": "python",
   "nbconvert_exporter": "python",
   "pygments_lexer": "ipython3",
   "version": "3.13.2"
  }
 },
 "nbformat": 4,
 "nbformat_minor": 5
}
