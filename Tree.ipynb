{
 "cells": [
  {
   "cell_type": "markdown",
   "id": "e1554ebf",
   "metadata": {},
   "source": [
    "## 🌳 Building the Foundation: Creating the Tree Node"
   ]
  },
  {
   "cell_type": "markdown",
   "id": "bfb0e1af",
   "metadata": {},
   "source": [
    "Before diving into the structure of our tree, let's start by creating the most fundamental part — **the tree node**."
   ]
  },
  {
   "cell_type": "markdown",
   "id": "c6191302",
   "metadata": {},
   "source": [
    "> 🌿 **We will create the tree node(Leaf) first.**\n",
    "\n",
    "This node will act as the basic building block for our tree data structure, holding both data and references to child nodes."
   ]
  },
  {
   "cell_type": "code",
   "execution_count": 18,
   "id": "e347b27b",
   "metadata": {},
   "outputs": [],
   "source": [
    "class TreeNode:\n",
    "    # This will create a structure:\n",
    "    def __init__(self,data):\n",
    "        self.data = data\n",
    "        self.parent = None\n",
    "        self.children = []\n",
    "    \n",
    "    # This will add the node:\n",
    "    def addNode(self,child):\n",
    "        child.parent = self\n",
    "        self.children.append(child)\n",
    "    \n",
    "    # Find the level:\n",
    "    def getLevel(self):\n",
    "        level = 0\n",
    "        while self.parent:\n",
    "            level += 1\n",
    "            self.parent = self.parent.parent\n",
    "        return level\n",
    "\n",
    "    # This function will show the tree:\n",
    "    def display(self):\n",
    "        prefix = \" \" * self.getLevel() * 3 + \"|--\" if self.parent else \"\"# What this means?\n",
    "        # This means make prefix for level = 2 \" \" * 2 * 3 --> \"      \" Post that \"|--\" if there is a parant of the node. If there is no parent that means root node then don't add any space. Also, for root node, level = 0 which means there wouldn't be any space. \n",
    "        print(prefix + self.data)\n",
    "        if self.children: # what is there are no nodes.\n",
    "            for child in self.children:\n",
    "                child.display() # child is also a node right???\n",
    "    "
   ]
  },
  {
   "cell_type": "markdown",
   "id": "549e5551",
   "metadata": {},
   "source": [
    "🌱 **Next Step:** Let’s implement the logic to bring our tree to life!"
   ]
  },
  {
   "cell_type": "code",
   "execution_count": 16,
   "id": "06de42dc",
   "metadata": {},
   "outputs": [],
   "source": [
    "def buildNode():\n",
    "    root = TreeNode(\"City\")\n",
    "\n",
    "    locality1 = TreeNode(\"locality1\")\n",
    "    locality2 = TreeNode(\"locality2\")\n",
    "\n",
    "    locality1.addNode(TreeNode(\"Apartment1\"))\n",
    "    locality1.addNode(TreeNode(\"Apartment2\"))\n",
    "    locality1.addNode(TreeNode(\"Apartment3\"))\n",
    "\n",
    "    locality2.addNode(TreeNode(\"Office1\"))\n",
    "    locality2.addNode(TreeNode(\"Office2\"))\n",
    "\n",
    "    root.addNode(locality1)\n",
    "    root.addNode(locality2)\n",
    "\n",
    "    return root\n",
    "\n",
    "# This function will create the whole tree and return the root node of the tree."
   ]
  },
  {
   "cell_type": "markdown",
   "id": "ab64fc03",
   "metadata": {},
   "source": [
    "🌲 **Let the Tree Grow.**\n",
    "We've laid down the roots by creating our node structure 🌳  \n",
    "and defined the logic to build our tree 🌿"
   ]
  },
  {
   "cell_type": "code",
   "execution_count": 17,
   "id": "2906dc11",
   "metadata": {},
   "outputs": [
    {
     "name": "stdout",
     "output_type": "stream",
     "text": [
      "City\n",
      " locality1\n",
      " Apartment1\n",
      " Apartment2\n",
      " Apartment3\n",
      " locality2\n",
      " Office1\n",
      " Office2\n"
     ]
    },
    {
     "data": {
      "text/plain": [
       "'   |             |  Apartment1\\n      |  locality1  |  Apartment2\\n      |             |  Apartment3\\ncity  |             |  \\n      |             |  Office1\\n      |   locality2 |\\n      |             |  Office2\\nLevel0  Level1          Level2\\n'"
      ]
     },
     "execution_count": 17,
     "metadata": {},
     "output_type": "execute_result"
    }
   ],
   "source": [
    "if __name__ == \"__main__\":\n",
    "    r = buildNode() # Remember this will return the root node to r\n",
    "    # Now what can we do with the root r?\n",
    "    # Lets display it:\n",
    "    r.display()\n",
    "    # The display is like:\n",
    "'''\n",
    "City\n",
    "locality1\n",
    "Apartment1\n",
    "Apartment2\n",
    "Apartment3\n",
    "locality2\n",
    "Office1\n",
    "Office2\n",
    "'''\n",
    "    # Not good looking right?\n",
    "    # Lets observe it:\n",
    "\n",
    "'''   |             |  Apartment1\n",
    "      |  locality1  |  Apartment2\n",
    "      |             |  Apartment3\n",
    "city  |             |  \n",
    "      |             |  Office1\n",
    "      |   locality2 |\n",
    "      |             |  Office2\n",
    "Level0  Level1          Level2\n",
    "'''\n",
    "    # So, if somehow we can define the level:"
   ]
  }
 ],
 "metadata": {
  "kernelspec": {
   "display_name": "venv",
   "language": "python",
   "name": "python3"
  },
  "language_info": {
   "codemirror_mode": {
    "name": "ipython",
    "version": 3
   },
   "file_extension": ".py",
   "mimetype": "text/x-python",
   "name": "python",
   "nbconvert_exporter": "python",
   "pygments_lexer": "ipython3",
   "version": "3.13.2"
  }
 },
 "nbformat": 4,
 "nbformat_minor": 5
}
