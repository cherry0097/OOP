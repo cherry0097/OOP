{
 "cells": [
  {
   "cell_type": "markdown",
   "id": "93fd6df8",
   "metadata": {},
   "source": [
    "**Here we will discuss about 2 pointers approch**"
   ]
  },
  {
   "cell_type": "markdown",
   "id": "69418370",
   "metadata": {},
   "source": [
    "Question: Given an integer array nums sorted in non-decreasing order, return an array of the squares of each number sorted in non-decreasing order."
   ]
  },
  {
   "cell_type": "markdown",
   "id": "d1b13de1",
   "metadata": {},
   "source": [
    "Example 1:\n",
    "\n",
    "Input: nums = [-4,-1,0,3,10]\n",
    "Output: [0,1,9,16,100]\n",
    "Explanation: After squaring, the array becomes [16,1,0,9,100].\n",
    "After sorting, it becomes [0,1,9,16,100]."
   ]
  },
  {
   "cell_type": "code",
   "execution_count": 1,
   "id": "a8ff9a09",
   "metadata": {},
   "outputs": [
    {
     "name": "stdout",
     "output_type": "stream",
     "text": [
      "[0, 1, 9, 16, 100]\n"
     ]
    }
   ],
   "source": [
    "nums = [-4,-1,0,3,10]\n",
    "left = 0\n",
    "right = len(nums) - 1\n",
    "final_res = []\n",
    "\n",
    "while left <= right:\n",
    "    if abs(nums[left]) > abs(nums[right]):\n",
    "        final_res.append(nums[left] ** 2)\n",
    "        left += 1\n",
    "    else:\n",
    "        final_res.append(nums[right] ** 2)\n",
    "        right -= 1\n",
    "\n",
    "print(final_res[::-1])"
   ]
  }
 ],
 "metadata": {
  "kernelspec": {
   "display_name": "Python 3",
   "language": "python",
   "name": "python3"
  },
  "language_info": {
   "codemirror_mode": {
    "name": "ipython",
    "version": 3
   },
   "file_extension": ".py",
   "mimetype": "text/x-python",
   "name": "python",
   "nbconvert_exporter": "python",
   "pygments_lexer": "ipython3",
   "version": "3.13.2"
  }
 },
 "nbformat": 4,
 "nbformat_minor": 5
}
