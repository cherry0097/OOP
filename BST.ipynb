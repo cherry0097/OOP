{
 "cells": [
  {
   "cell_type": "markdown",
   "id": "4b983d70",
   "metadata": {},
   "source": [
    "# 🌳 Binary Tree Traversal Project\n",
    "\n",
    "Welcome to this project where we will **learn how to create a Binary Tree** and **traverse through it** using different techniques.\n",
    "\n",
    "---\n",
    "\n",
    "## 📚 What You'll Learn\n",
    "\n",
    "- 🌱 How to **create a Binary Tree**\n",
    "- 🔄 How to **traverse** a Binary Tree using:\n",
    "  - 🔹 **In-Order Traversal**\n",
    "  - 🔹 **Pre-Order Traversal**\n",
    "  - 🔹 **Post-Order Traversal**\n",
    "\n",
    "---\n",
    "\n",
    "## 🚀 Let's Begin!\n"
   ]
  },
  {
   "cell_type": "markdown",
   "id": "368d92da",
   "metadata": {},
   "source": [
    "### 🌟 **Step 1** — *Creating a Binary Tree Starts with a Node Structure* 🌱\n"
   ]
  },
  {
   "cell_type": "code",
   "execution_count": null,
   "id": "8462e24f",
   "metadata": {},
   "outputs": [],
   "source": [
    "class TreeNode:\n",
    "    def __init__(self,value):\n",
    "        self.value = value\n",
    "        self.left = None\n",
    "        self.right = None\n",
    "    def addNode(self,data):\n",
    "        if data == self.value: return\n",
    "        if data < self.value:\n",
    "            if self.left:\n",
    "                self.left.addNode(data)\n",
    "            else:\n",
    "                self.left = TreeNode(data) # Test\n",
    "        else:\n",
    "            if self.right:\n",
    "                self.right.addNode(data)\n",
    "            else:\n",
    "                self.right = TreeNode(data)\n",
    "    def inOrderTraversal(self):\n",
    "        ele = []\n",
    "\n",
    "        if self.left:\n",
    "            ele += self.left.inOrderTraversal()\n",
    "        ele.append(self.value)\n",
    "        if self.right:\n",
    "            ele += self.right.inOrderTraversal()\n",
    "\n",
    "        return ele\n",
    "    def preOrderTraversal(self):\n",
    "        ele = []\n",
    "\n",
    "        ele.append(self.value)\n",
    "        if self.left:\n",
    "            ele += self.left.preOrderTraversal()\n",
    "        if self.right:\n",
    "            ele += self.right.preOrderTraversal()\n",
    "        \n",
    "        return ele\n",
    "    def postOrderTraversal(self):\n",
    "        ele = []\n",
    "\n",
    "        if self.left:\n",
    "            ele += self.left.postOrderTraversal()\n",
    "        if self.right:\n",
    "            ele += self.right.postOrderTraversal()\n",
    "        ele.append(self.value)\n",
    "\n",
    "        return ele\n",
    "\n",
    "\n"
   ]
  },
  {
   "cell_type": "markdown",
   "id": "06277501",
   "metadata": {},
   "source": [
    "### 🌟 **Step 2** — *Now We Will Create a Function to Add Our Elements to the Tree* 🍃"
   ]
  },
  {
   "cell_type": "code",
   "execution_count": 22,
   "id": "1b7775af",
   "metadata": {},
   "outputs": [],
   "source": [
    "def createBinaryTree(elements):\n",
    "    root = TreeNode(elements[0])\n",
    "    for i in range(1,len(elements)):\n",
    "        root.addNode(elements[i])\n",
    "    return root"
   ]
  },
  {
   "cell_type": "markdown",
   "id": "9473e816",
   "metadata": {},
   "source": [
    "### 🌟 **Step 3** — *Display the Binary Tree* 🌼"
   ]
  },
  {
   "cell_type": "code",
   "execution_count": 23,
   "id": "9e2b3b00",
   "metadata": {},
   "outputs": [
    {
     "name": "stdout",
     "output_type": "stream",
     "text": [
      "\n",
      "Original Numbers:    [10, 2, 4, 55, 98, 11, -1, 3, 5]\n",
      "Inorder Traversal:   [-1, 2, 3, 4, 5, 10, 11, 55, 98]\n",
      "Preorder Traversal:  [10, 2, -1, 4, 3, 5, 55, 11, 98]\n",
      "Postorder Traversal: [-1, 3, 5, 4, 2, 11, 98, 55, 10]\n"
     ]
    }
   ],
   "source": [
    "if __name__ == \"__main__\":\n",
    "    numbers = [10,2,4,55,98,11,-1,3,5]\n",
    "    print(f\"\"\"\n",
    "Original Numbers:    {numbers}\n",
    "Inorder Traversal:   {createBinaryTree(numbers).inOrderTraversal()}\n",
    "Preorder Traversal:  {createBinaryTree(numbers).preOrderTraversal()}\n",
    "Postorder Traversal: {createBinaryTree(numbers).postOrderTraversal()}\"\"\")"
   ]
  }
 ],
 "metadata": {
  "kernelspec": {
   "display_name": "Python 3",
   "language": "python",
   "name": "python3"
  },
  "language_info": {
   "codemirror_mode": {
    "name": "ipython",
    "version": 3
   },
   "file_extension": ".py",
   "mimetype": "text/x-python",
   "name": "python",
   "nbconvert_exporter": "python",
   "pygments_lexer": "ipython3",
   "version": "3.13.2"
  }
 },
 "nbformat": 4,
 "nbformat_minor": 5
}
